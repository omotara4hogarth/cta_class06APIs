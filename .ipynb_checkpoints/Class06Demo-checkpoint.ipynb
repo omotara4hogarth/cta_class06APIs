{
 "cells": [
  {
   "cell_type": "code",
   "execution_count": 1,
   "id": "a2033be2-e4dd-4143-abbb-de793ae2d2d4",
   "metadata": {},
   "outputs": [],
   "source": [
    "import urllib.request, json"
   ]
  },
  {
   "cell_type": "code",
   "execution_count": 18,
   "id": "01ba699f-eb42-4c99-83cc-ebd6480341b0",
   "metadata": {},
   "outputs": [
    {
     "name": "stdout",
     "output_type": "stream",
     "text": [
      "<http.client.HTTPResponse object at 0x000001C01B60E020> <class 'http.client.HTTPResponse'>\n"
     ]
    }
   ],
   "source": [
    "request = urllib.request.Request(\"http://api.open-notify.org/iss-now.json\")\n",
    "response = urllib.request.urlopen(request)\n",
    "print(response, type(response))"
   ]
  },
  {
   "cell_type": "code",
   "execution_count": 19,
   "id": "59ee22f5-6d86-48f0-aeb4-3026e377e64e",
   "metadata": {},
   "outputs": [],
   "source": [
    "response_json = json.loads(response.read())\n",
    "location_str = f\"The International Space Station was at latitude {response_json['iss_position']['latitude']} and longitude {response_json['iss_position']['longitude']} at time {response_json['timestamp']}\"\n",
    "#latitude = response_json['iss_position']['latitude']"
   ]
  },
  {
   "cell_type": "code",
   "execution_count": 20,
   "id": "656571a3-9056-4c53-bedd-9726ef9abf19",
   "metadata": {},
   "outputs": [
    {
     "name": "stdout",
     "output_type": "stream",
     "text": [
      "The International Space Station was at latitude 34.2738 and longitude 6.2413 at time 1700581115\n",
      "{'timestamp': 1700581115, 'message': 'success', 'iss_position': {'latitude': '34.2738', 'longitude': '6.2413'}}\n"
     ]
    }
   ],
   "source": [
    "print(location_str)\n",
    "print(response_json)"
   ]
  },
  {
   "cell_type": "code",
   "execution_count": null,
   "id": "f0c49b73-1123-462e-b85f-0020b725b436",
   "metadata": {},
   "outputs": [],
   "source": []
  }
 ],
 "metadata": {
  "kernelspec": {
   "display_name": "Python 3 (ipykernel)",
   "language": "python",
   "name": "python3"
  },
  "language_info": {
   "codemirror_mode": {
    "name": "ipython",
    "version": 3
   },
   "file_extension": ".py",
   "mimetype": "text/x-python",
   "name": "python",
   "nbconvert_exporter": "python",
   "pygments_lexer": "ipython3",
   "version": "3.12.0"
  }
 },
 "nbformat": 4,
 "nbformat_minor": 5
}
