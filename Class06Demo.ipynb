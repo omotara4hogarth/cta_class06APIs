{
 "cells": [
  {
   "cell_type": "code",
   "execution_count": 2,
   "id": "b559e5c4-5c93-45fa-995c-0fd8d14b1070",
   "metadata": {},
   "outputs": [
    {
     "name": "stdout",
     "output_type": "stream",
     "text": [
      "Collecting spotipy\n",
      "  Using cached spotipy-2.23.0-py3-none-any.whl (29 kB)\n",
      "Collecting redis>=3.5.3 (from spotipy)\n",
      "  Using cached redis-5.0.1-py3-none-any.whl.metadata (8.9 kB)\n",
      "Requirement already satisfied: requests>=2.25.0 in c:\\users\\omotara edu\\appdata\\local\\programs\\python\\python312\\lib\\site-packages (from spotipy) (2.31.0)\n",
      "Requirement already satisfied: six>=1.15.0 in c:\\users\\omotara edu\\appdata\\local\\programs\\python\\python312\\lib\\site-packages (from spotipy) (1.16.0)\n",
      "Requirement already satisfied: urllib3>=1.26.0 in c:\\users\\omotara edu\\appdata\\local\\programs\\python\\python312\\lib\\site-packages (from spotipy) (2.0.7)\n",
      "Requirement already satisfied: charset-normalizer<4,>=2 in c:\\users\\omotara edu\\appdata\\local\\programs\\python\\python312\\lib\\site-packages (from requests>=2.25.0->spotipy) (3.3.2)\n",
      "Requirement already satisfied: idna<4,>=2.5 in c:\\users\\omotara edu\\appdata\\local\\programs\\python\\python312\\lib\\site-packages (from requests>=2.25.0->spotipy) (3.4)\n",
      "Requirement already satisfied: certifi>=2017.4.17 in c:\\users\\omotara edu\\appdata\\local\\programs\\python\\python312\\lib\\site-packages (from requests>=2.25.0->spotipy) (2023.7.22)\n",
      "Using cached redis-5.0.1-py3-none-any.whl (250 kB)\n",
      "Installing collected packages: redis, spotipy\n",
      "Successfully installed redis-5.0.1 spotipy-2.23.0\n",
      "Note: you may need to restart the kernel to use updated packages.\n"
     ]
    }
   ],
   "source": [
    "pip install spotipy"
   ]
  },
  {
   "cell_type": "code",
   "execution_count": 7,
   "id": "a2033be2-e4dd-4143-abbb-de793ae2d2d4",
   "metadata": {},
   "outputs": [],
   "source": [
    "import urllib.request, json\n",
    "import spotipy\n",
    "import pandas as pd\n",
    "from spotipy.oauth2 import SpotifyClientCredentials"
   ]
  },
  {
   "cell_type": "code",
   "execution_count": 8,
   "id": "01ba699f-eb42-4c99-83cc-ebd6480341b0",
   "metadata": {},
   "outputs": [
    {
     "name": "stdout",
     "output_type": "stream",
     "text": [
      "<http.client.HTTPResponse object at 0x000001D2AA6E7F40> <class 'http.client.HTTPResponse'>\n"
     ]
    }
   ],
   "source": [
    "# Fun Example using the International Space Station API\n",
    "request = urllib.request.Request(\"http://api.open-notify.org/iss-now.json\")\n",
    "response = urllib.request.urlopen(request)\n",
    "print(response, type(response))"
   ]
  },
  {
   "cell_type": "code",
   "execution_count": 9,
   "id": "59ee22f5-6d86-48f0-aeb4-3026e377e64e",
   "metadata": {},
   "outputs": [],
   "source": [
    "# Getting the response\n",
    "response_json = json.loads(response.read())\n",
    "location_str = f\"The International Space Station was at latitude {response_json['iss_position']['latitude']} and longitude {response_json['iss_position']['longitude']} at time {response_json['timestamp']}\""
   ]
  },
  {
   "cell_type": "code",
   "execution_count": 10,
   "id": "656571a3-9056-4c53-bedd-9726ef9abf19",
   "metadata": {},
   "outputs": [
    {
     "name": "stdout",
     "output_type": "stream",
     "text": [
      "The International Space Station was at latitude 51.2469 and longitude 51.7012 at time 1700581706\n",
      "{'timestamp': 1700581706, 'message': 'success', 'iss_position': {'latitude': '51.2469', 'longitude': '51.7012'}}\n"
     ]
    }
   ],
   "source": [
    "# Printing\n",
    "print(location_str)\n",
    "print(response_json)"
   ]
  },
  {
   "cell_type": "code",
   "execution_count": 11,
   "id": "f0c49b73-1123-462e-b85f-0020b725b436",
   "metadata": {},
   "outputs": [],
   "source": [
    "# Using the Spotify API\n",
    "credentials = \"env.json\"\n",
    "with open(credentials, \"r\") as keys:\n",
    "    api_tokens = json.load(keys)\n",
    "\n",
    "client_id = api_tokens[\"client_id\"]\n",
    "client_secret = "
   ]
  },
  {
   "cell_type": "code",
   "execution_count": null,
   "id": "089d64a0-ee48-4b98-a6a0-a573ccd3f8e0",
   "metadata": {},
   "outputs": [],
   "source": []
  }
 ],
 "metadata": {
  "kernelspec": {
   "display_name": "Python 3 (ipykernel)",
   "language": "python",
   "name": "python3"
  },
  "language_info": {
   "codemirror_mode": {
    "name": "ipython",
    "version": 3
   },
   "file_extension": ".py",
   "mimetype": "text/x-python",
   "name": "python",
   "nbconvert_exporter": "python",
   "pygments_lexer": "ipython3",
   "version": "3.12.0"
  }
 },
 "nbformat": 4,
 "nbformat_minor": 5
}
